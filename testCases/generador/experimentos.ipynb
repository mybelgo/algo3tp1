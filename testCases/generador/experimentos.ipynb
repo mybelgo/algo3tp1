{
 "cells": [
  {
   "cell_type": "code",
   "execution_count": 1,
   "metadata": {},
   "outputs": [],
   "source": [
    "import math, subprocess\n",
    "import pandas as pd\n",
    "import numpy as np\n",
    "from IPython.display import display, clear_output"
   ]
  },
  {
   "cell_type": "code",
   "execution_count": 2,
   "metadata": {},
   "outputs": [],
   "source": [
    "def leer_instancia(path_instancia):\n",
    "    with open(path_instancia, \"r\") as f:\n",
    "        return f.read();\n",
    "\n",
    "dfFullRandom = pd.read_csv(\"instancias/fullRandom/indice.csv\");\n",
    "dfUniformeR = pd.read_csv(\"instancias/uniformeR/indice.csv\");\n",
    "dfUniforme = pd.read_csv(\"instancias/uniforme/indice.csv\");\n",
    "dfMuchos = pd.read_csv(\"instancias/muchos/indice.csv\");\n",
    "dfPocos = pd.read_csv(\"instancias/pocos/indice.csv\");"
   ]
  },
  {
   "cell_type": "code",
   "execution_count": 3,
   "metadata": {},
   "outputs": [],
   "source": [
    "def correr_experimento(metodo, archivo_instancia):\n",
    "    # Leer archivo de la instancia.\n",
    "    instancia = leer_instancia(archivo_instancia)\n",
    "    \n",
    "    #display(F\"Hubo un error en la experimentacion para el algoritmo: {metodo} con la instancia {archivo_instancia}.\")\n",
    "    \n",
    "    # Crear proceso para ejecutar el codigo.\n",
    "    process = subprocess.Popen([\"../../jumboTubos\", metodo], stderr=subprocess.PIPE, stdout=subprocess.PIPE, stdin=subprocess.PIPE, universal_newlines = True)\n",
    "\n",
    "    # Poner la instancia en la entrada estandar.\n",
    "    process.stdin.write(instancia)\n",
    "    process.stdin.flush()\n",
    "    \n",
    "    # Correr experimento.\n",
    "    exit_code = process.wait()\n",
    "\n",
    "    # Verificar que el proceso no fallo.\n",
    "    if exit_code != 0: raise(F\"Hubo un error en la experimentacion para el algoritmo: {algoritmo} con la instancia {archivo_instancia}.\")\n",
    "    # Leer salida de STDERR con los tiempos de ejecucion de cada metodo.\n",
    "    tiempo_de_ejecucion = float(process.stderr.read());\n",
    "    \n",
    "    process.stdin.close();\n",
    "    process.stdout.close();\n",
    "    process.stderr.close();\n",
    "    \n",
    "    return tiempo_de_ejecucion;"
   ]
  },
  {
   "cell_type": "code",
   "execution_count": 4,
   "metadata": {},
   "outputs": [],
   "source": [
    "experimentos = [];\n",
    "\n",
    "maxNFB = 30\n",
    "maxNBT = 30\n",
    "\n",
    "for n in range(0, dfFullRandom.shape[0]):\n",
    "    fila_n = dfFullRandom.iloc[n];\n",
    "    if(fila_n[\"n\"] < maxNFB): experimentos.append([fila_n[\"dataset\"], fila_n[\"n\"], fila_n[\"W\"], \"FB\", fila_n[\"archivo\"]]);\n",
    "for n in range(0, dfUniformeR.shape[0]):\n",
    "    fila_n = dfUniformeR.iloc[n];\n",
    "    if(fila_n[\"n\"] < maxNFB): experimentos.append([fila_n[\"dataset\"], fila_n[\"n\"], fila_n[\"W\"], \"FB\", fila_n[\"archivo\"]]);\n",
    "for n in range(0, dfUniforme.shape[0]):\n",
    "    fila_n = dfUniforme.iloc[n];\n",
    "    if(fila_n[\"n\"] < maxNFB): experimentos.append([fila_n[\"dataset\"], fila_n[\"n\"], fila_n[\"W\"], \"FB\", fila_n[\"archivo\"]]);\n",
    "for n in range(0, dfMuchos.shape[0]):\n",
    "    fila_n = dfMuchos.iloc[n];\n",
    "    if(fila_n[\"n\"] < maxNBT): experimentos.append([fila_n[\"dataset\"], fila_n[\"n\"], fila_n[\"W\"], \"FB\", fila_n[\"archivo\"]]);\n",
    "for n in range(0, dfPocos.shape[0]):\n",
    "    fila_n = dfPocos.iloc[n];\n",
    "    if(fila_n[\"n\"] < maxNBT): experimentos.append([fila_n[\"dataset\"], fila_n[\"n\"], fila_n[\"W\"], \"FB\", fila_n[\"archivo\"]]);\n",
    "\n",
    "for n in range(0, dfFullRandom.shape[0]):\n",
    "    fila_n = dfFullRandom.iloc[n];\n",
    "    if(fila_n[\"n\"] < maxNBT): experimentos.append([fila_n[\"dataset\"], fila_n[\"n\"], fila_n[\"W\"], \"BT\", fila_n[\"archivo\"]]);\n",
    "for n in range(0, dfUniformeR.shape[0]):\n",
    "    fila_n = dfUniformeR.iloc[n];\n",
    "    if(fila_n[\"n\"] < maxNBT): experimentos.append([fila_n[\"dataset\"], fila_n[\"n\"], fila_n[\"W\"], \"BT\", fila_n[\"archivo\"]]);\n",
    "for n in range(0, dfUniforme.shape[0]):\n",
    "    fila_n = dfUniforme.iloc[n];\n",
    "    if(fila_n[\"n\"] < maxNBT): experimentos.append([fila_n[\"dataset\"], fila_n[\"n\"], fila_n[\"W\"], \"BT\", fila_n[\"archivo\"]]);\n",
    "for n in range(0, dfMuchos.shape[0]):\n",
    "    fila_n = dfMuchos.iloc[n];\n",
    "    if(fila_n[\"n\"] < maxNBT): experimentos.append([fila_n[\"dataset\"], fila_n[\"n\"], fila_n[\"W\"], \"BT\", fila_n[\"archivo\"]]);\n",
    "for n in range(0, dfPocos.shape[0]):\n",
    "    fila_n = dfPocos.iloc[n];\n",
    "    if(fila_n[\"n\"] < maxNBT): experimentos.append([fila_n[\"dataset\"], fila_n[\"n\"], fila_n[\"W\"], \"BT\", fila_n[\"archivo\"]]);\n",
    "    \n",
    "for n in range(0, dfFullRandom.shape[0]):\n",
    "    fila_n = dfFullRandom.iloc[n];\n",
    "    if(fila_n[\"n\"] < maxNBT): experimentos.append([fila_n[\"dataset\"], fila_n[\"n\"], fila_n[\"W\"], \"BT-O\", fila_n[\"archivo\"]]);\n",
    "for n in range(0, dfUniformeR.shape[0]):\n",
    "    fila_n = dfUniformeR.iloc[n];\n",
    "    if(fila_n[\"n\"] < maxNBT): experimentos.append([fila_n[\"dataset\"], fila_n[\"n\"], fila_n[\"W\"], \"BT-O\", fila_n[\"archivo\"]]);\n",
    "for n in range(0, dfUniforme.shape[0]):\n",
    "    fila_n = dfUniforme.iloc[n];\n",
    "    if(fila_n[\"n\"] < maxNBT): experimentos.append([fila_n[\"dataset\"], fila_n[\"n\"], fila_n[\"W\"], \"BT-O\", fila_n[\"archivo\"]]);\n",
    "for n in range(0, dfMuchos.shape[0]):\n",
    "    fila_n = dfMuchos.iloc[n];\n",
    "    if(fila_n[\"n\"] < maxNBT): experimentos.append([fila_n[\"dataset\"], fila_n[\"n\"], fila_n[\"W\"], \"BT-O\", fila_n[\"archivo\"]]);\n",
    "for n in range(0, dfPocos.shape[0]):\n",
    "    fila_n = dfPocos.iloc[n];\n",
    "    if(fila_n[\"n\"] < maxNBT): experimentos.append([fila_n[\"dataset\"], fila_n[\"n\"], fila_n[\"W\"], \"BT-O\", fila_n[\"archivo\"]]);\n",
    "    \n",
    "for n in range(0, dfFullRandom.shape[0]):\n",
    "    fila_n = dfFullRandom.iloc[n];\n",
    "    if(fila_n[\"n\"] < maxNBT): experimentos.append([fila_n[\"dataset\"], fila_n[\"n\"], fila_n[\"W\"], \"BT-F\", fila_n[\"archivo\"]]);\n",
    "for n in range(0, dfUniformeR.shape[0]):\n",
    "    fila_n = dfUniformeR.iloc[n];\n",
    "    if(fila_n[\"n\"] < maxNBT): experimentos.append([fila_n[\"dataset\"], fila_n[\"n\"], fila_n[\"W\"], \"BT-F\", fila_n[\"archivo\"]]);\n",
    "for n in range(0, dfUniforme.shape[0]):\n",
    "    fila_n = dfUniforme.iloc[n];\n",
    "    if(fila_n[\"n\"] < maxNBT): experimentos.append([fila_n[\"dataset\"], fila_n[\"n\"], fila_n[\"W\"], \"BT-F\", fila_n[\"archivo\"]]);\n",
    "for n in range(0, dfMuchos.shape[0]):\n",
    "    fila_n = dfMuchos.iloc[n];\n",
    "    if(fila_n[\"n\"] < maxNBT): experimentos.append([fila_n[\"dataset\"], fila_n[\"n\"], fila_n[\"W\"], \"BT-F\", fila_n[\"archivo\"]]);\n",
    "for n in range(0, dfPocos.shape[0]):\n",
    "    fila_n = dfPocos.iloc[n];\n",
    "    if(fila_n[\"n\"] < maxNBT): experimentos.append([fila_n[\"dataset\"], fila_n[\"n\"], fila_n[\"W\"], \"BT-F\", fila_n[\"archivo\"]]);\n",
    "        \n",
    "\n",
    "for n in range(0, dfFullRandom.shape[0]):\n",
    "    fila_n = dfFullRandom.iloc[n];\n",
    "    experimentos.append([fila_n[\"dataset\"], fila_n[\"n\"], fila_n[\"W\"], \"DP\", fila_n[\"archivo\"]]);\n",
    "for n in range(0, dfUniformeR.shape[0]):\n",
    "    fila_n = dfUniformeR.iloc[n];\n",
    "    experimentos.append([fila_n[\"dataset\"], fila_n[\"n\"], fila_n[\"W\"], \"DP\", fila_n[\"archivo\"]]);\n",
    "for n in range(0, dfUniforme.shape[0]):\n",
    "    fila_n = dfUniforme.iloc[n];\n",
    "    experimentos.append([fila_n[\"dataset\"], fila_n[\"n\"], fila_n[\"W\"], \"DP\", fila_n[\"archivo\"]]);\n",
    "for n in range(0, dfMuchos.shape[0]):\n",
    "    fila_n = dfMuchos.iloc[n];\n",
    "    experimentos.append([fila_n[\"dataset\"], fila_n[\"n\"], fila_n[\"W\"], \"DP\", fila_n[\"archivo\"]]);\n",
    "for n in range(0, dfPocos.shape[0]):\n",
    "    fila_n = dfPocos.iloc[n];\n",
    "    experimentos.append([fila_n[\"dataset\"], fila_n[\"n\"], fila_n[\"W\"], \"DP\", fila_n[\"archivo\"]]);"
   ]
  },
  {
   "cell_type": "code",
   "execution_count": 5,
   "metadata": {},
   "outputs": [
    {
     "data": {
      "text/plain": [
       "'Experimento: 2008/2008'"
      ]
     },
     "metadata": {},
     "output_type": "display_data"
    },
    {
     "data": {
      "text/plain": [
       "'Corriendo instancias/pocos/n15000_0.in con DP.'"
      ]
     },
     "metadata": {},
     "output_type": "display_data"
    }
   ],
   "source": [
    "columnas = [\"dataset\", \"n\", \"R\", \"metodo\", \"tiempo\"];\n",
    "filas = [];\n",
    "numero = 1\n",
    "T = 3 # Numero de veces que se ejecuta cada experimento (para mayor fidelidad del tiempo).\n",
    "for experimento in experimentos:\n",
    "    # Voy mostrando que experimento se esta ejecutando.\n",
    "    clear_output(wait=True)\n",
    "    display('Experimento: ' + str(numero) + \"/\" + str(len(experimentos)))\n",
    "    numero += 1\n",
    "    \n",
    "    display(F\"Corriendo {experimento[4]} con {experimento[3]}.\" )\n",
    "    \n",
    "    # Ejecutamos el experimento T veces y obtenemos la mediana.\n",
    "    tiempos = []\n",
    "    for i in range(0, T):\n",
    "        tiempos.append(correr_experimento(experimento[3], experimento[4]));\n",
    "    tiempo = np.median(tiempos);\n",
    "    filas.append([experimento[0], experimento[1], experimento[2], experimento[3], tiempo]);\n",
    "df_resultado = pd.DataFrame(filas, columns=columnas);\n",
    "df_resultado.to_csv(\"resultados/resultado.csv\", index=False, header=True);"
   ]
  },
  {
   "cell_type": "code",
   "execution_count": null,
   "metadata": {},
   "outputs": [],
   "source": []
  }
 ],
 "metadata": {
  "kernelspec": {
   "display_name": "Python 3",
   "language": "python",
   "name": "python3"
  },
  "language_info": {
   "codemirror_mode": {
    "name": "ipython",
    "version": 3
   },
   "file_extension": ".py",
   "mimetype": "text/x-python",
   "name": "python",
   "nbconvert_exporter": "python",
   "pygments_lexer": "ipython3",
   "version": "3.8.2"
  }
 },
 "nbformat": 4,
 "nbformat_minor": 2
}
